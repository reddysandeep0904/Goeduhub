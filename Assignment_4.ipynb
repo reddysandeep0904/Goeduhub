{
 "cells": [
  {
   "cell_type": "markdown",
   "id": "bfb40611",
   "metadata": {},
   "source": [
    "# 1. Import the numpy package under the name np and Print the numpy version and the configuration"
   ]
  },
  {
   "cell_type": "code",
   "execution_count": null,
   "id": "00148dc1",
   "metadata": {},
   "outputs": [],
   "source": [
    "import numpy as np\n",
    "print(np.__version__)\n",
    "print(np.show_config())"
   ]
  },
  {
   "cell_type": "markdown",
   "id": "0ecb9fc3",
   "metadata": {},
   "source": [
    "# 2. Create a null vector of size 10"
   ]
  },
  {
   "cell_type": "code",
   "execution_count": 3,
   "id": "c1f3a230",
   "metadata": {},
   "outputs": [
    {
     "name": "stdout",
     "output_type": "stream",
     "text": [
      "[0. 0. 0. 0. 0. 0. 0. 0. 0. 0.]\n"
     ]
    }
   ],
   "source": [
    "x = np.zeros(10)\n",
    "print(x)"
   ]
  },
  {
   "cell_type": "markdown",
   "id": "67d6747c",
   "metadata": {},
   "source": [
    "# 3. Create Simple 1-D array and check type and check data types in array "
   ]
  },
  {
   "cell_type": "code",
   "execution_count": 5,
   "id": "1800860a",
   "metadata": {},
   "outputs": [
    {
     "name": "stdout",
     "output_type": "stream",
     "text": [
      "<class 'numpy.ndarray'>\n",
      "Datatype: int32\n"
     ]
    }
   ],
   "source": [
    "arr = np.array([1, 2, 3, 23, 56, 100])\n",
    "  \n",
    "print(type(arr))\n",
    "  \n",
    "print('Datatype:', arr.dtype)"
   ]
  },
  {
   "cell_type": "markdown",
   "id": "4ce1296f",
   "metadata": {},
   "source": [
    "# 4. How to find number of dimensions, bytes per element and bytes of memory used? "
   ]
  },
  {
   "cell_type": "code",
   "execution_count": 10,
   "id": "ff5ab794",
   "metadata": {},
   "outputs": [
    {
     "name": "stdout",
     "output_type": "stream",
     "text": [
      "1\n",
      "24\n",
      "6\n"
     ]
    }
   ],
   "source": [
    "df = np.array([1, 2, 3, 23, 56, 100])\n",
    "print (df.ndim)\n",
    "print (df.nbytes)\n",
    "print (df.size)"
   ]
  },
  {
   "cell_type": "markdown",
   "id": "53e291d2",
   "metadata": {},
   "source": [
    "# 5. Create a null vector of size 10 but the fifth value which is 1"
   ]
  },
  {
   "cell_type": "code",
   "execution_count": 20,
   "id": "2e5894dd",
   "metadata": {},
   "outputs": [
    {
     "name": "stdout",
     "output_type": "stream",
     "text": [
      "[0. 0. 0. 0. 1. 0. 0. 0. 0. 0.]\n"
     ]
    }
   ],
   "source": [
    "Z=np.zeros(10)\n",
    "Z[4]=1\n",
    "print(Z)"
   ]
  },
  {
   "cell_type": "markdown",
   "id": "b1c65b9f",
   "metadata": {},
   "source": [
    "# 6.Create a vector with values ranging from 10 to 49\n"
   ]
  },
  {
   "cell_type": "code",
   "execution_count": 21,
   "id": "ac2fdb00",
   "metadata": {},
   "outputs": [
    {
     "data": {
      "text/plain": [
       "array([10, 11, 12, 13, 14, 15, 16, 17, 18, 19, 20, 21, 22, 23, 24, 25, 26,\n",
       "       27, 28, 29, 30, 31, 32, 33, 34, 35, 36, 37, 38, 39, 40, 41, 42, 43,\n",
       "       44, 45, 46, 47, 48, 49])"
      ]
     },
     "execution_count": 21,
     "metadata": {},
     "output_type": "execute_result"
    }
   ],
   "source": [
    "s = np.arange(10,50)\n",
    "s"
   ]
  },
  {
   "cell_type": "markdown",
   "id": "61c3e837",
   "metadata": {},
   "source": [
    "# 7. Reverse a vector (first element becomes last)"
   ]
  },
  {
   "cell_type": "code",
   "execution_count": 24,
   "id": "b264e716",
   "metadata": {},
   "outputs": [
    {
     "data": {
      "text/plain": [
       "array([49, 48, 47, 46, 45, 44, 43, 42, 41, 40, 39, 38, 37, 36, 35, 34, 33,\n",
       "       32, 31, 30, 29, 28, 27, 26, 25, 24, 23, 22, 21, 20, 19, 18, 17, 16,\n",
       "       15, 14, 13, 12, 11, 10,  9,  8,  7,  6,  5,  4,  3,  2,  1,  0])"
      ]
     },
     "execution_count": 24,
     "metadata": {},
     "output_type": "execute_result"
    }
   ],
   "source": [
    "x = np.arange(50)\n",
    "s1 = x[::-1]\n",
    "s1"
   ]
  },
  {
   "cell_type": "markdown",
   "id": "6b92492d",
   "metadata": {},
   "source": [
    "# 8. Create a 3x3 matrix with values ranging from 0 to 8"
   ]
  },
  {
   "cell_type": "code",
   "execution_count": 25,
   "id": "e1386f12",
   "metadata": {},
   "outputs": [
    {
     "name": "stdout",
     "output_type": "stream",
     "text": [
      "[[0 1 2]\n",
      " [3 4 5]\n",
      " [6 7 8]]\n"
     ]
    }
   ],
   "source": [
    "m = np.arange(9).reshape(3,3)\n",
    "print(m)"
   ]
  },
  {
   "cell_type": "markdown",
   "id": "74e2c9a6",
   "metadata": {},
   "source": [
    "# 9. Find indices of non-zero elements from [1,2,0,0,4,0]"
   ]
  },
  {
   "cell_type": "code",
   "execution_count": 29,
   "id": "71d77016",
   "metadata": {},
   "outputs": [
    {
     "name": "stdout",
     "output_type": "stream",
     "text": [
      "(array([0, 1, 4], dtype=int64),)\n"
     ]
    }
   ],
   "source": [
    "n =np.nonzero([1,2,0,0,4,0])\n",
    "print(n)"
   ]
  },
  {
   "cell_type": "markdown",
   "id": "36207a60",
   "metadata": {},
   "source": [
    "# 10.Create a 3x3 identity matrix"
   ]
  },
  {
   "cell_type": "code",
   "execution_count": 31,
   "id": "d11f20da",
   "metadata": {},
   "outputs": [
    {
     "name": "stdout",
     "output_type": "stream",
     "text": [
      "[[1. 0. 0.]\n",
      " [0. 1. 0.]\n",
      " [0. 0. 1.]]\n"
     ]
    }
   ],
   "source": [
    "r =np.eye(3)\n",
    "print(r)"
   ]
  },
  {
   "cell_type": "markdown",
   "id": "84826c7a",
   "metadata": {},
   "source": [
    "# 11.Create a 3x3x3 array with random values"
   ]
  },
  {
   "cell_type": "code",
   "execution_count": 30,
   "id": "bbe18dd3",
   "metadata": {},
   "outputs": [
    {
     "name": "stdout",
     "output_type": "stream",
     "text": [
      "[[[0.23976276 0.03897506 0.64466598]\n",
      "  [0.30505628 0.02041399 0.96955575]\n",
      "  [0.67879709 0.94791173 0.79264992]]\n",
      "\n",
      " [[0.14958995 0.84998794 0.65681568]\n",
      "  [0.46992053 0.48097442 0.80258175]\n",
      "  [0.76968848 0.05619773 0.7980431 ]]\n",
      "\n",
      " [[0.36377499 0.51944489 0.5642652 ]\n",
      "  [0.98809886 0.45363252 0.25086245]\n",
      "  [0.50559456 0.54257421 0.7060089 ]]]\n"
     ]
    }
   ],
   "source": [
    "i=np.random.random((3,3,3))\n",
    "print(i)"
   ]
  },
  {
   "cell_type": "markdown",
   "id": "dc8053c9",
   "metadata": {},
   "source": [
    "# 12. Create a 10x10 array with random values and find the minimum and maximum values"
   ]
  },
  {
   "cell_type": "code",
   "execution_count": 32,
   "id": "a6acf44a",
   "metadata": {},
   "outputs": [
    {
     "name": "stdout",
     "output_type": "stream",
     "text": [
      "0.002929662153091872 0.9976116670628552\n"
     ]
    }
   ],
   "source": [
    "a=np.random.random((10,10))\n",
    "amin,amax=a.min(),a.max()\n",
    "print(amin,amax)"
   ]
  },
  {
   "cell_type": "markdown",
   "id": "76c86660",
   "metadata": {},
   "source": [
    "# 13. Create a random vector of size 30 and find the mean value\n"
   ]
  },
  {
   "cell_type": "code",
   "execution_count": 33,
   "id": "02190422",
   "metadata": {},
   "outputs": [
    {
     "name": "stdout",
     "output_type": "stream",
     "text": [
      "0.36963268900178675\n"
     ]
    }
   ],
   "source": [
    "y=np.random.random(30)\n",
    "m=y.mean()\n",
    "print(m)"
   ]
  },
  {
   "cell_type": "markdown",
   "id": "dfb9d1ab",
   "metadata": {},
   "source": [
    " # 14.Create a 2d array with 1 on the border and 0 inside"
   ]
  },
  {
   "cell_type": "code",
   "execution_count": 36,
   "id": "0ef35500",
   "metadata": {},
   "outputs": [
    {
     "name": "stdout",
     "output_type": "stream",
     "text": [
      "Original array:\n",
      "[[1. 1. 1. 1. 1.]\n",
      " [1. 1. 1. 1. 1.]\n",
      " [1. 1. 1. 1. 1.]\n",
      " [1. 1. 1. 1. 1.]\n",
      " [1. 1. 1. 1. 1.]]\n",
      "1 on the border and 0 inside in the array\n",
      "[[1. 1. 1. 1. 1.]\n",
      " [1. 0. 0. 0. 1.]\n",
      " [1. 0. 0. 0. 1.]\n",
      " [1. 0. 0. 0. 1.]\n",
      " [1. 1. 1. 1. 1.]]\n"
     ]
    }
   ],
   "source": [
    "import numpy as np\n",
    "x = np.ones((5,5))\n",
    "print(\"Original array:\")\n",
    "print(x)\n",
    "print(\"1 on the border and 0 inside in the array\")\n",
    "x[1:-1,1:-1] = 0\n",
    "print(x)"
   ]
  },
  {
   "cell_type": "markdown",
   "id": "6f45fc51",
   "metadata": {},
   "source": [
    "# 15. How to add a border (filled with 0's) around an existing array? \n"
   ]
  },
  {
   "cell_type": "code",
   "execution_count": 37,
   "id": "2f72e8cc",
   "metadata": {},
   "outputs": [
    {
     "name": "stdout",
     "output_type": "stream",
     "text": [
      "Original array:\n",
      "[[1. 1. 1.]\n",
      " [1. 1. 1.]\n",
      " [1. 1. 1.]]\n",
      "0 on the border and 1 inside in the array\n",
      "[[0. 0. 0. 0. 0.]\n",
      " [0. 1. 1. 1. 0.]\n",
      " [0. 1. 1. 1. 0.]\n",
      " [0. 1. 1. 1. 0.]\n",
      " [0. 0. 0. 0. 0.]]\n"
     ]
    }
   ],
   "source": [
    "x = np.ones((3,3))\n",
    "print(\"Original array:\")\n",
    "print(x)\n",
    "print(\"0 on the border and 1 inside in the array\")\n",
    "x = np.pad(x, pad_width=1, mode='constant', constant_values=0)\n",
    "print(x)"
   ]
  },
  {
   "cell_type": "markdown",
   "id": "c2fa134a",
   "metadata": {},
   "source": [
    "# 17. How to Convert a 1D array to a 2D array with 2 rows\n",
    "\n"
   ]
  },
  {
   "cell_type": "code",
   "execution_count": 53,
   "id": "00569f82",
   "metadata": {},
   "outputs": [
    {
     "name": "stdout",
     "output_type": "stream",
     "text": [
      "Before reshaping: [1 2 3 4 5 6 7 8] \n",
      "\n",
      "After reshaping having dimension 4x2: [[1 2]\n",
      " [3 4]\n",
      " [5 6]\n",
      " [7 8]] \n",
      "\n",
      "After reshaping having dimension 2x4: [[1 2 3 4]\n",
      " [5 6 7 8]] \n",
      "\n"
     ]
    }
   ],
   "source": [
    "arr = np.array([1, 2, 3, 4, 5, 6, 7, 8])\n",
    "print ('Before reshaping:',arr, '\\n') \n",
    "\n",
    "arr1 = arr.reshape(4, 2)\n",
    "print ('After reshaping having dimension 4x2:',arr1, '\\n')\n",
    "\n",
    "arr2 = arr.reshape(2, 4)\n",
    "print ('After reshaping having dimension 2x4:', arr2, '\\n')\n"
   ]
  },
  {
   "cell_type": "markdown",
   "id": "9d531d44",
   "metadata": {},
   "source": [
    "# 19.Write a program to show how Numpy taking less memory compared to Python List?"
   ]
  },
  {
   "cell_type": "code",
   "execution_count": 48,
   "id": "2fc35aa4",
   "metadata": {},
   "outputs": [
    {
     "name": "stdout",
     "output_type": "stream",
     "text": [
      "Size of each element of list in bytes:  48\n",
      "Size of the whole list in bytes:  48000\n",
      "Size of each element of the Numpy array in bytes:  4\n",
      "Size of the whole Numpy array in bytes:  4000\n"
     ]
    }
   ],
   "source": [
    "import sys \n",
    "S= range(1000)\n",
    "print(\"Size of each element of list in bytes: \",sys.getsizeof(S))\n",
    "print(\"Size of the whole list in bytes: \",sys.getsizeof(S)*len(S)) \n",
    "D= np.arange(1000)\n",
    "print(\"Size of each element of the Numpy array in bytes: \",D.itemsize)\n",
    "print(\"Size of the whole Numpy array in bytes: \",D.size*D.itemsize)"
   ]
  },
  {
   "cell_type": "markdown",
   "id": "1c589626",
   "metadata": {},
   "source": [
    "# 20. Write a program to show how Numpy taking less time compared to Python List?"
   ]
  },
  {
   "cell_type": "code",
   "execution_count": 49,
   "id": "86ebf494",
   "metadata": {},
   "outputs": [
    {
     "name": "stdout",
     "output_type": "stream",
     "text": [
      "\n",
      "Concatenation:\n",
      "Time taken by Lists : 0.017008304595947266 seconds\n",
      "Time taken by NumPy Arrays : 0.0010035037994384766 seconds\n",
      "\n",
      "Dot Product:\n",
      "Time taken by Lists : 0.6055572032928467 seconds\n",
      "Time taken by NumPy Arrays : 0.003341197967529297 seconds\n",
      "\n",
      "Scalar Addition:\n",
      "Time taken by Lists : 0.6189675331115723 seconds\n",
      "Time taken by NumPy Arrays : 0.0408322811126709 seconds\n",
      "\n",
      "Deletion: \n",
      "Time taken by Lists : 0.028879642486572266 seconds\n",
      "Time taken by NumPy Arrays : 0.00407719612121582 seconds\n"
     ]
    }
   ],
   "source": [
    "# importing required packages\n",
    "import numpy\n",
    "import time\n",
    "\n",
    "\n",
    "# size of arrays and lists\n",
    "size = 1000000\n",
    "\n",
    "# declaring lists\n",
    "list1 = [i for i in range(size)]\n",
    "list2 = [i for i in range(size)]\n",
    "\n",
    "# declaring arrays\n",
    "array1 = numpy.arange(size)\n",
    "array2 = numpy.arange(size)\n",
    "\n",
    "# Concatenation\n",
    "print(\"\\nConcatenation:\")\n",
    "\n",
    "# list\n",
    "initialTime = time.time()\n",
    "list1 = list1 + list2\n",
    "\n",
    "# calculating execution time\n",
    "print(\"Time taken by Lists :\",\n",
    "\t(time.time() - initialTime),\n",
    "\t\"seconds\")\n",
    "\n",
    "# NumPy array\n",
    "initialTime = time.time()\n",
    "array = numpy.concatenate((array1, array2),\n",
    "\t\t\t\t\t\taxis = 0)\n",
    "\n",
    "# calculating execution time\n",
    "print(\"Time taken by NumPy Arrays :\",\n",
    "\t(time.time() - initialTime),\n",
    "\t\"seconds\")\n",
    "\n",
    "\n",
    "# Dot Product\n",
    "dot = 0\n",
    "print(\"\\nDot Product:\")\n",
    "\n",
    "# list\n",
    "initialTime = time.time()\n",
    "for a, b in zip(list1, list2):\n",
    "\t\tdot = dot + (a * b)\n",
    "\t\t\n",
    "# calculating execution time\n",
    "print(\"Time taken by Lists :\",\n",
    "\t(time.time() - initialTime),\n",
    "\t\"seconds\")\n",
    "\n",
    "# NumPy array\n",
    "initialTime = time.time()\n",
    "array = numpy.dot(array1, array2)\n",
    "\n",
    "# calculating execution time\n",
    "print(\"Time taken by NumPy Arrays :\",\n",
    "\t(time.time() - initialTime),\n",
    "\t\"seconds\")\n",
    "\n",
    "\n",
    "# Scalar Addtion\n",
    "print(\"\\nScalar Addition:\")\n",
    "\n",
    "# list\n",
    "initialTime = time.time()\n",
    "list1 =[i + 2 for i in range(size)]\n",
    "\n",
    "# calculating execution time\n",
    "print(\"Time taken by Lists :\",\n",
    "\t(time.time() - initialTime),\n",
    "\t\"seconds\")\n",
    "\n",
    "# NumPy array\n",
    "initialTime = time.time()\n",
    "array1 = array1 + 2\n",
    "\n",
    "# calculating execution time\n",
    "print(\"Time taken by NumPy Arrays :\",\n",
    "\t(time.time() - initialTime),\n",
    "\t\"seconds\")\n",
    "\n",
    "\n",
    "# Deletion\n",
    "print(\"\\nDeletion: \")\n",
    "\n",
    "# list\n",
    "initialTime = time.time()\n",
    "del(list1)\n",
    "\n",
    "# calculating execution time\n",
    "print(\"Time taken by Lists :\",\n",
    "\t(time.time() - initialTime),\n",
    "\t\"seconds\")\n",
    "\n",
    "# NumPy array\n",
    "initialTime = time.time()\n",
    "del(array1)\n",
    "\n",
    "# calculating execution time\n",
    "print(\"Time taken by NumPy Arrays :\",\n",
    "\t(time.time() - initialTime),\n",
    "\t\"seconds\")\n"
   ]
  },
  {
   "cell_type": "code",
   "execution_count": null,
   "id": "6fb040a2",
   "metadata": {},
   "outputs": [],
   "source": []
  }
 ],
 "metadata": {
  "kernelspec": {
   "display_name": "Python 3",
   "language": "python",
   "name": "python3"
  },
  "language_info": {
   "codemirror_mode": {
    "name": "ipython",
    "version": 3
   },
   "file_extension": ".py",
   "mimetype": "text/x-python",
   "name": "python",
   "nbconvert_exporter": "python",
   "pygments_lexer": "ipython3",
   "version": "3.8.8"
  }
 },
 "nbformat": 4,
 "nbformat_minor": 5
}
