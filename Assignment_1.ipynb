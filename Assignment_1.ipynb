{
  "nbformat": 4,
  "nbformat_minor": 0,
  "metadata": {
    "colab": {
      "name": "Assignment/Task 1.ipynb",
      "provenance": [],
      "collapsed_sections": []
    },
    "kernelspec": {
      "name": "python3",
      "display_name": "Python 3"
    },
    "language_info": {
      "name": "python"
    }
  },
  "cells": [
    {
      "cell_type": "markdown",
      "metadata": {
        "id": "H9OzKInr3acr"
      },
      "source": [
        "1. We are having 3 list like this\n",
        "\n",
        "Colors = [“Yellow”,”Green”,”White”,”Black”]\n",
        "\n",
        "Fruits=[“Apple”,”Papaya”,”Mango”,”Orange”]\n",
        "\n",
        "Animals=[“Tiger”,”Lion”,”Deer”,”Zebra”]\n",
        "\n",
        "i. Write a program that asks user to enter a Color/Fruit/Animal name and it should tell which category belongs to , like its is a fruit or color or Animal"
      ]
    },
    {
      "cell_type": "code",
      "metadata": {
        "colab": {
          "base_uri": "https://localhost:8080/"
        },
        "id": "tpOjh9WgzBAf",
        "outputId": "020862ce-18ce-458c-9a3d-e27b51bdb6ea"
      },
      "source": [
        "Colors=[\"Yellow\",\"Green\",\"White\",\"Black\"]\n",
        "Fruits=[\"Apple\",\"Papaya\",\"Mango\",\"Orange\"]\n",
        "Animals=[\"Tiger\",\"Lion\",\"Deer\",\"Zebra\"]\n",
        "name = input(\"Enter a Color/Fruit/Animal: \")\n",
        "if name in Colors:\n",
        "    print(\"This is a color\")\n",
        "elif name in Fruits:\n",
        "    print(\"This is a Fruit\")\n",
        "elif name in Animals:\n",
        "    print(\"This is a Animal\")\n",
        "else:\n",
        "    print(\"Please check the answer and try again\")"
      ],
      "execution_count": null,
      "outputs": [
        {
          "output_type": "stream",
          "text": [
            "Enter a Color/Fruit/Animal: Yellow\n",
            "This is a color\n"
          ],
          "name": "stdout"
        }
      ]
    },
    {
      "cell_type": "markdown",
      "metadata": {
        "id": "aBbVcEVc30Ta"
      },
      "source": [
        " ii. Write a program that asks user to enter two items and it tells you if they both are in same category or not. For example if I enter yellow and Black, it will print \"Both are colors\" but if I enter yellow and Tiger it should print \"They don't belong to same category\""
      ]
    },
    {
      "cell_type": "code",
      "metadata": {
        "colab": {
          "base_uri": "https://localhost:8080/"
        },
        "id": "gAzabTTF36L5",
        "outputId": "12524b51-7f6e-4286-cc27-66faa8171601"
      },
      "source": [
        "input1 = input(\"Enter input 1: \")\n",
        "input2 = input(\"Enter input 2: \")\n",
        "Colors=[\"Yellow\",\"Green\",\"White\",\"Black\"]\n",
        "Fruits=[\"Apple\",\"Papaya\",\"Mango\",\"Orange\"]\n",
        "Animals=[\"Tiger\",\"Lion\",\"Deer\",\"Zebra\"]\n",
        "if (input1 and input2) in Colors:\n",
        "    print(\"Both are colors\")\n",
        "elif (input1 and input2) is Fruits:\n",
        "    print(\"Both are Fruits\")\n",
        "elif (input1 and input2) is Animals:\n",
        "    print(\"Both are Animals\")\n",
        "else:\n",
        "    print(\"They don't belong to same category\")"
      ],
      "execution_count": null,
      "outputs": [
        {
          "output_type": "stream",
          "text": [
            "Enter input 1: Green\n",
            "Enter input 2: White\n",
            "Both are colors\n"
          ],
          "name": "stdout"
        }
      ]
    },
    {
      "cell_type": "markdown",
      "metadata": {
        "id": "bJJkt02p3Y8n"
      },
      "source": [
        "2.  Write a python program that can tell you if your grade score good or not . Normal Score range is 40 to 60.\n",
        "\n",
        "  i. Ask user to enter his score.\n",
        "\n",
        "  ii. If it is below 40 to 60 range then print that score is low\n",
        "\n",
        "  iii. If it is above 60 then print that it is good otherwise print that it is normal"
      ]
    },
    {
      "cell_type": "code",
      "metadata": {
        "colab": {
          "base_uri": "https://localhost:8080/"
        },
        "id": "dYz99-vt3mny",
        "outputId": "17c31fba-5c4b-4e32-fd20-5c4b43096ede"
      },
      "source": [
        "score=int(input(\"Enter your score: \"))\n",
        "if score<40:\n",
        "  print(\"Low\")\n",
        "elif score>60:\n",
        "  print(\"Good\")\n",
        "else:\n",
        "  print(\"normal\")"
      ],
      "execution_count": null,
      "outputs": [
        {
          "output_type": "stream",
          "text": [
            "Enter your score: 65\n",
            "Good\n"
          ],
          "name": "stdout"
        }
      ]
    },
    {
      "cell_type": "markdown",
      "metadata": {
        "id": "QYYM3zM56vEE"
      },
      "source": [
        "3.After appearing in exam 10 times you got this result, \n",
        "\n",
        "result = [\"Pass\",\"Fail\",\"Fail\",\"Pass\",\"Fail\",\"Pass\",\"Pass\",\"Fail\",\"Fail\",\"Fail\"]\n",
        "\n",
        "Using for loop figure out how many times you got Pass"
      ]
    },
    {
      "cell_type": "code",
      "metadata": {
        "colab": {
          "base_uri": "https://localhost:8080/"
        },
        "id": "DNuWyOq36xjF",
        "outputId": "b3c8f7c9-af57-4fc4-bc02-75ae039a45e6"
      },
      "source": [
        "result = [\"Pass\",\"Fail\",\"Fail\",\"Pass\",\"Fail\",\"Pass\",\"Pass\",\"Fail\",\"Fail\",\"Fail\"]\n",
        "count = 0\n",
        "\n",
        "for x in result :\n",
        "    if x == \"Pass\" :\n",
        "        count += 1\n",
        "print(\"You passed\", count, \"times\")"
      ],
      "execution_count": null,
      "outputs": [
        {
          "output_type": "stream",
          "text": [
            "You passed 4 times\n"
          ],
          "name": "stdout"
        }
      ]
    },
    {
      "cell_type": "markdown",
      "metadata": {
        "id": "5VBGFigZ7uDa"
      },
      "source": [
        "4.  Write a program that prints following shape\n",
        "\n",
        "*\n",
        "\n",
        "* *\n",
        "\n",
        "* * *\n",
        "\n",
        "* * * *\n",
        "\n",
        "* * * * *\n",
        "\n",
        "* * * *\n",
        "\n",
        "* * *\n",
        "\n",
        "* *\n",
        "\n",
        "*"
      ]
    },
    {
      "cell_type": "code",
      "metadata": {
        "id": "AKF2M-Yt7wzh",
        "colab": {
          "base_uri": "https://localhost:8080/"
        },
        "outputId": "2b8ed2c5-b200-4cbe-c31c-1327990a480c"
      },
      "source": [
        " for i in range(0,6):\n",
        "    for j in range(i):\n",
        "        print(\"*\", end=\"\")\n",
        "    print()\n",
        "for i in range(4,0,-1):\n",
        "    for j in range(i):\n",
        "        if (j<i):\n",
        "            print(\"*\",end=\"\")\n",
        "    print()"
      ],
      "execution_count": null,
      "outputs": [
        {
          "output_type": "stream",
          "text": [
            "\n",
            "*\n",
            "**\n",
            "***\n",
            "****\n",
            "*****\n",
            "****\n",
            "***\n",
            "**\n",
            "*\n"
          ],
          "name": "stdout"
        }
      ]
    },
    {
      "cell_type": "markdown",
      "metadata": {
        "id": "XXSC1msE77xR"
      },
      "source": [
        "5.   Lets say you are running a 50 km race. Write a program that,\n",
        "\n",
        "Upon completing each 10 km asks you \"are you tired?\"\n",
        "If you reply \"yes\" then it should break and print \"you didn't finish the race\"\n",
        " If you reply \"no\" then it should continue and ask \"are you tired\" on every km\n",
        "If you finish all 50 km then it should print congratulations message"
      ]
    },
    {
      "cell_type": "code",
      "metadata": {
        "id": "DkjXruXY8Bjq",
        "colab": {
          "base_uri": "https://localhost:8080/"
        },
        "outputId": "c41ac8aa-019c-4744-9743-8ef8a6ac5615"
      },
      "source": [
        "a=0\n",
        "for a in range(0,50):\n",
        "    if(a==10):\n",
        "        print(a , \" kms covered. Are you tired?\")\n",
        "        d= input()\n",
        "        if d==\"yes\" or d==\"Yes\":\n",
        "            print(\" You didn't finish the race.\")\n",
        "            break\n",
        "        else:\n",
        "            continue\n",
        "    if(a>10):\n",
        "        print(a,\" kms covered. Are you tired?\")\n",
        "        e= input()\n",
        "        if e==\"yes\" or e==\"Yes\":\n",
        "            print(\" You didn't finish the race.\")\n",
        "            break\n",
        "        else:\n",
        "            continue\n",
        "if a==49:\n",
        "    print(\"Congratulations!\")"
      ],
      "execution_count": null,
      "outputs": [
        {
          "output_type": "stream",
          "text": [
            "10  kms covered. Are you tired?\n",
            "No\n",
            "11  kms covered. Are you tired?\n",
            "No\n",
            "12  kms covered. Are you tired?\n",
            "No\n",
            "13  kms covered. Are you tired?\n",
            "O\n",
            "14  kms covered. Are you tired?\n",
            "No\n",
            "15  kms covered. Are you tired?\n",
            "No\n",
            "16  kms covered. Are you tired?\n",
            "No\n",
            "17  kms covered. Are you tired?\n",
            "No\n",
            "18  kms covered. Are you tired?\n",
            "No\n",
            "19  kms covered. Are you tired?\n",
            "No\n",
            "20  kms covered. Are you tired?\n",
            "No\n",
            "21  kms covered. Are you tired?\n",
            "No\n",
            "22  kms covered. Are you tired?\n",
            "No\n",
            "23  kms covered. Are you tired?\n",
            "No\n",
            "24  kms covered. Are you tired?\n",
            "No\n",
            "25  kms covered. Are you tired?\n",
            "No\n",
            "26  kms covered. Are you tired?\n",
            "No\n",
            "27  kms covered. Are you tired?\n",
            "No\n",
            "28  kms covered. Are you tired?\n",
            "No\n",
            "29  kms covered. Are you tired?\n",
            "No\n",
            "30  kms covered. Are you tired?\n",
            "No\n",
            "31  kms covered. Are you tired?\n",
            "No\n",
            "32  kms covered. Are you tired?\n",
            "No\n",
            "33  kms covered. Are you tired?\n",
            "No\n",
            "34  kms covered. Are you tired?\n",
            "No\n",
            "35  kms covered. Are you tired?\n",
            "No\n",
            "36  kms covered. Are you tired?\n",
            "No\n",
            "37  kms covered. Are you tired?\n",
            "No\n",
            "38  kms covered. Are you tired?\n",
            "No\n",
            "39  kms covered. Are you tired?\n",
            "No\n",
            "40  kms covered. Are you tired?\n",
            "No\n",
            "41  kms covered. Are you tired?\n",
            "No\n",
            "42  kms covered. Are you tired?\n",
            "No\n",
            "43  kms covered. Are you tired?\n",
            "No\n",
            "44  kms covered. Are you tired?\n",
            "No\n",
            "45  kms covered. Are you tired?\n",
            "No\n",
            "46  kms covered. Are you tired?\n",
            "No\n",
            "47  kms covered. Are you tired?\n",
            "No\n",
            "48  kms covered. Are you tired?\n",
            "No\n",
            "49  kms covered. Are you tired?\n",
            "No\n",
            "Congratulations!\n"
          ],
          "name": "stdout"
        }
      ]
    },
    {
      "cell_type": "markdown",
      "metadata": {
        "id": "la7KiA2x-CwY"
      },
      "source": [
        "6.  Write a Python program to find those numbers which are divisible by 7 and multiple of 5, between 1500 and 2700 (both included)."
      ]
    },
    {
      "cell_type": "code",
      "metadata": {
        "colab": {
          "base_uri": "https://localhost:8080/"
        },
        "id": "XzVXxC9e-E_o",
        "outputId": "9aebbb36-9656-4ee7-d4fd-924411fbc42c"
      },
      "source": [
        "for i in range(1500,2700,5):\n",
        "  if i%7 ==0:\n",
        "    print(i,end=\" \")"
      ],
      "execution_count": null,
      "outputs": [
        {
          "output_type": "stream",
          "text": [
            "1505 1540 1575 1610 1645 1680 1715 1750 1785 1820 1855 1890 1925 1960 1995 2030 2065 2100 2135 2170 2205 2240 2275 2310 2345 2380 2415 2450 2485 2520 2555 2590 2625 2660 2695 "
          ],
          "name": "stdout"
        }
      ]
    },
    {
      "cell_type": "markdown",
      "metadata": {
        "id": "vD1jLIzD_BQk"
      },
      "source": [
        "7.   Print square of all numbers between 10 to 20 except even numbers\n",
        "\n"
      ]
    },
    {
      "cell_type": "code",
      "metadata": {
        "colab": {
          "base_uri": "https://localhost:8080/"
        },
        "id": "V_bwwWI1_D-s",
        "outputId": "8a076067-f5d6-452e-d61f-28f9138631d5"
      },
      "source": [
        "for i in range(10,21):\n",
        "  if i%2!=0:\n",
        "    print(i)"
      ],
      "execution_count": null,
      "outputs": [
        {
          "output_type": "stream",
          "text": [
            "11\n",
            "13\n",
            "15\n",
            "17\n",
            "19\n"
          ],
          "name": "stdout"
        }
      ]
    },
    {
      "cell_type": "markdown",
      "metadata": {
        "id": "bCvFT-bz_m1V"
      },
      "source": [
        "8.  Your Marks for five Test(test1 to test5) looks like this,\n",
        "\n",
        "marks_list = [65, 75, 2100, 95, 83]\n",
        "\n",
        "Write a program that asks you to enter marks and program should tell you in which test that marks occurred. If marks is not found then it should print that as well."
      ]
    },
    {
      "cell_type": "code",
      "metadata": {
        "id": "clGBSgIH_nlQ",
        "colab": {
          "base_uri": "https://localhost:8080/",
          "height": 352
        },
        "outputId": "37e5f0b0-9fc9-48cb-f9e5-bcf01d30ef2c"
      },
      "source": [
        "marks_list = [65, 75, 2100, 95, 83]\n",
        "ls=list(map(int.input().split(\",\")))\n",
        "for i in range(0,len(ls)):\n",
        "  if ls[i] in marks_list:\n",
        "    print(marks_list[i])\n",
        "  else:\n",
        "    print(\"Not occured in any test\")"
      ],
      "execution_count": null,
      "outputs": [
        {
          "output_type": "error",
          "ename": "AttributeError",
          "evalue": "ignored",
          "traceback": [
            "\u001b[0;31m---------------------------------------------------------------------------\u001b[0m",
            "\u001b[0;31mAttributeError\u001b[0m                            Traceback (most recent call last)",
            "\u001b[0;32m<ipython-input-7-35bbe45b06cf>\u001b[0m in \u001b[0;36m<module>\u001b[0;34m()\u001b[0m\n\u001b[1;32m      1\u001b[0m \u001b[0mmarks_list\u001b[0m \u001b[0;34m=\u001b[0m \u001b[0;34m[\u001b[0m\u001b[0;36m65\u001b[0m\u001b[0;34m,\u001b[0m \u001b[0;36m75\u001b[0m\u001b[0;34m,\u001b[0m \u001b[0;36m2100\u001b[0m\u001b[0;34m,\u001b[0m \u001b[0;36m95\u001b[0m\u001b[0;34m,\u001b[0m \u001b[0;36m83\u001b[0m\u001b[0;34m]\u001b[0m\u001b[0;34m\u001b[0m\u001b[0;34m\u001b[0m\u001b[0m\n\u001b[0;32m----> 2\u001b[0;31m \u001b[0mls\u001b[0m\u001b[0;34m=\u001b[0m\u001b[0mlist\u001b[0m\u001b[0;34m(\u001b[0m\u001b[0mmap\u001b[0m\u001b[0;34m(\u001b[0m\u001b[0mint\u001b[0m\u001b[0;34m.\u001b[0m\u001b[0minput\u001b[0m\u001b[0;34m(\u001b[0m\u001b[0;34m)\u001b[0m\u001b[0;34m.\u001b[0m\u001b[0msplit\u001b[0m\u001b[0;34m(\u001b[0m\u001b[0;34m\",\"\u001b[0m\u001b[0;34m)\u001b[0m\u001b[0;34m)\u001b[0m\u001b[0;34m)\u001b[0m\u001b[0;34m\u001b[0m\u001b[0;34m\u001b[0m\u001b[0m\n\u001b[0m\u001b[1;32m      3\u001b[0m \u001b[0;32mfor\u001b[0m \u001b[0mi\u001b[0m \u001b[0;32min\u001b[0m \u001b[0mrange\u001b[0m\u001b[0;34m(\u001b[0m\u001b[0;36m0\u001b[0m\u001b[0;34m,\u001b[0m\u001b[0mlen\u001b[0m\u001b[0;34m(\u001b[0m\u001b[0mls\u001b[0m\u001b[0;34m)\u001b[0m\u001b[0;34m)\u001b[0m\u001b[0;34m:\u001b[0m\u001b[0;34m\u001b[0m\u001b[0;34m\u001b[0m\u001b[0m\n\u001b[1;32m      4\u001b[0m   \u001b[0;32mif\u001b[0m \u001b[0mls\u001b[0m\u001b[0;34m[\u001b[0m\u001b[0mi\u001b[0m\u001b[0;34m]\u001b[0m \u001b[0;32min\u001b[0m \u001b[0mmarks_list\u001b[0m\u001b[0;34m:\u001b[0m\u001b[0;34m\u001b[0m\u001b[0;34m\u001b[0m\u001b[0m\n\u001b[1;32m      5\u001b[0m     \u001b[0mprint\u001b[0m\u001b[0;34m(\u001b[0m\u001b[0mmarks_list\u001b[0m\u001b[0;34m[\u001b[0m\u001b[0mi\u001b[0m\u001b[0;34m]\u001b[0m\u001b[0;34m)\u001b[0m\u001b[0;34m\u001b[0m\u001b[0;34m\u001b[0m\u001b[0m\n",
            "\u001b[0;31mAttributeError\u001b[0m: type object 'int' has no attribute 'input'"
          ]
        }
      ]
    }
  ]
}