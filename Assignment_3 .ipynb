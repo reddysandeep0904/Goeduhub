{
 "cells": [
  {
   "cell_type": "markdown",
   "id": "4165c8cf",
   "metadata": {},
   "source": [
    "# 1.Write a Python Program to sort (ascending and descending) a dictionary by value."
   ]
  },
  {
   "cell_type": "code",
   "execution_count": 1,
   "id": "73f65867",
   "metadata": {},
   "outputs": [
    {
     "name": "stdout",
     "output_type": "stream",
     "text": [
      "Original dictionary :  {1: 2, 3: 4, 4: 3, 2: 1, 0: 0}\n",
      "Dictionary in ascending order by value :  [(0, 0), (1, 2), (2, 1), (3, 4), (4, 3)]\n",
      "Dictionary in descending order by value :  [(4, 3), (3, 4), (2, 1), (1, 2), (0, 0)]\n"
     ]
    }
   ],
   "source": [
    "import operator  \n",
    "d = {1: 2, 3: 4, 4: 3, 2: 1, 0: 0}  \n",
    "print('Original dictionary : ',d)  \n",
    "sorted_d = sorted(d.items(), key=operator.itemgetter(0))  \n",
    "print('Dictionary in ascending order by value : ',sorted_d)  \n",
    "sorted_d = sorted(d.items(), key=operator.itemgetter(0),reverse=True)  \n",
    "print('Dictionary in descending order by value : ',sorted_d)"
   ]
  },
  {
   "cell_type": "markdown",
   "id": "425ef669",
   "metadata": {},
   "source": [
    "# 2.Write a Python Program to add a key to a dictionary."
   ]
  },
  {
   "cell_type": "code",
   "execution_count": 3,
   "id": "19c48d62",
   "metadata": {},
   "outputs": [
    {
     "name": "stdout",
     "output_type": "stream",
     "text": [
      "Sample Dictionary;  {0: 10, 1: 20}\n",
      "Expected Result :  {0: 10, 1: 20, 2: 30}\n"
     ]
    }
   ],
   "source": [
    "d = {0:10, 1:20}\n",
    "print('Sample Dictionary; ',d)\n",
    "d.update({0: 10, 1: 20, 2: 30})\n",
    "print('Expected Result : ',d)"
   ]
  },
  {
   "cell_type": "markdown",
   "id": "c5ad2e79",
   "metadata": {},
   "source": [
    "# 3 Write a  program asks for City name and Temperature and builds a dictionary using that Later on you can input City name and it will tell you the Temperature of that City."
   ]
  },
  {
   "cell_type": "code",
   "execution_count": 4,
   "id": "925d9e0f",
   "metadata": {},
   "outputs": [
    {
     "name": "stdout",
     "output_type": "stream",
     "text": [
      "Enter city name and temperature :Hyderabad,25\n",
      "Enter city name and temperature :Nalgonda,28\n",
      "Enter city name and temperature :warangal,23\n",
      "Enter city name and temperature to be known :Hyderabad\n",
      "The Temparature of the city Hyderabad is  25\n"
     ]
    }
   ],
   "source": [
    "dict = {}\n",
    "for i in range(3):\n",
    "  s1,s2 = input('Enter city name and temperature :').split(',')\n",
    "  dict[s1]=s2\n",
    "m = input('Enter city name and temperature to be known :')\n",
    "print('The Temparature of the city {} is  {}'.format(m,dict[m]))"
   ]
  },
  {
   "cell_type": "markdown",
   "id": "cd27e61a",
   "metadata": {},
   "source": [
    "# 4 Write a Python program to convert list to list of dictionaries."
   ]
  },
  {
   "cell_type": "code",
   "execution_count": 12,
   "id": "476668a4",
   "metadata": {},
   "outputs": [
    {
     "name": "stdout",
     "output_type": "stream",
     "text": [
      "[{'color_name': 'Black', 'color_code': '#000000'}, {'color_name': 'Red', 'color_code': '#FF0000'}, {'color_name': 'Maroon', 'color_code': '#800000'}, {'color_name': 'Yellow', 'color_code': '#FFFF00'}]\n"
     ]
    }
   ],
   "source": [
    "color_name = [\"Black\", \"Red\", \"Maroon\", \"Yellow\"]\n",
    "color_code = [\"#000000\", \"#FF0000\", \"#800000\", \"#FFFF00\"]\n",
    "print([{'color_name': f, 'color_code': c} for f, c in zip(color_name, color_code)])"
   ]
  },
  {
   "cell_type": "markdown",
   "id": "4c6dc828",
   "metadata": {},
   "source": [
    "# Questions on Sets\n",
    "# 1 What is the difference between a set and a frozenset? Create any set and try to use frozenset(setname)."
   ]
  },
  {
   "cell_type": "markdown",
   "id": "feb6c964",
   "metadata": {},
   "source": [
    "ANS: Mutability is the most important difference between a set object and a frozenset object. Mutability refers to the ability of Python object's value subject to change"
   ]
  },
  {
   "cell_type": "code",
   "execution_count": 5,
   "id": "713ae156",
   "metadata": {},
   "outputs": [
    {
     "name": "stdout",
     "output_type": "stream",
     "text": [
      "The frozen set is: frozenset({'age', 'sex', 'name'})\n"
     ]
    }
   ],
   "source": [
    "person = {\"name\": \"sandeep\", \"age\": 23, \"sex\": \"male\"}\n",
    "\n",
    "fSet = frozenset(person)\n",
    "print('The frozen set is:', fSet)"
   ]
  },
  {
   "cell_type": "markdown",
   "id": "b3c2258a",
   "metadata": {},
   "source": [
    "# 2.Find the elements in a given set that are not in another set"
   ]
  },
  {
   "cell_type": "code",
   "execution_count": 11,
   "id": "9983798f",
   "metadata": {},
   "outputs": [
    {
     "name": "stdout",
     "output_type": "stream",
     "text": [
      "{40, 10, 50, 20, 30}\n",
      "{70, 40, 80, 50, 60}\n",
      "Difference between set1 and set2 is  {10, 20, 30}\n"
     ]
    }
   ],
   "source": [
    "set1 = {10,20,30,40,50}\n",
    "set2 = {40,50,60,70,80}\n",
    "print(set1)\n",
    "print(set2)\n",
    "print('Difference between set1 and set2 is ',set1.difference(set2))"
   ]
  },
  {
   "cell_type": "code",
   "execution_count": null,
   "id": "a2307fce",
   "metadata": {},
   "outputs": [],
   "source": []
  }
 ],
 "metadata": {
  "kernelspec": {
   "display_name": "Python 3",
   "language": "python",
   "name": "python3"
  },
  "language_info": {
   "codemirror_mode": {
    "name": "ipython",
    "version": 3
   },
   "file_extension": ".py",
   "mimetype": "text/x-python",
   "name": "python",
   "nbconvert_exporter": "python",
   "pygments_lexer": "ipython3",
   "version": "3.8.8"
  }
 },
 "nbformat": 4,
 "nbformat_minor": 5
}
